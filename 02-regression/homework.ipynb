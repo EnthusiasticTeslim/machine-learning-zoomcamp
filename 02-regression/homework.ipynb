{
 "cells": [
  {
   "cell_type": "code",
   "execution_count": 1,
   "metadata": {},
   "outputs": [],
   "source": [
    "import pandas as pd\n",
    "import numpy as np\n",
    "import matplotlib.pyplot as plt\n",
    "import seaborn as sns"
   ]
  },
  {
   "cell_type": "markdown",
   "metadata": {},
   "source": [
    "### Dataset"
   ]
  },
  {
   "cell_type": "markdown",
   "metadata": {},
   "source": [
    "Load data"
   ]
  },
  {
   "cell_type": "code",
   "execution_count": 2,
   "metadata": {},
   "outputs": [
    {
     "data": {
      "text/html": [
       "<div>\n",
       "<style scoped>\n",
       "    .dataframe tbody tr th:only-of-type {\n",
       "        vertical-align: middle;\n",
       "    }\n",
       "\n",
       "    .dataframe tbody tr th {\n",
       "        vertical-align: top;\n",
       "    }\n",
       "\n",
       "    .dataframe thead th {\n",
       "        text-align: right;\n",
       "    }\n",
       "</style>\n",
       "<table border=\"1\" class=\"dataframe\">\n",
       "  <thead>\n",
       "    <tr style=\"text-align: right;\">\n",
       "      <th></th>\n",
       "      <th>Laptop</th>\n",
       "      <th>Status</th>\n",
       "      <th>Brand</th>\n",
       "      <th>Model</th>\n",
       "      <th>CPU</th>\n",
       "      <th>RAM</th>\n",
       "      <th>Storage</th>\n",
       "      <th>Storage type</th>\n",
       "      <th>GPU</th>\n",
       "      <th>Screen</th>\n",
       "      <th>Touch</th>\n",
       "      <th>Final Price</th>\n",
       "    </tr>\n",
       "  </thead>\n",
       "  <tbody>\n",
       "    <tr>\n",
       "      <th>0</th>\n",
       "      <td>ASUS ExpertBook B1 B1502CBA-EJ0436X Intel Core...</td>\n",
       "      <td>New</td>\n",
       "      <td>Asus</td>\n",
       "      <td>ExpertBook</td>\n",
       "      <td>Intel Core i5</td>\n",
       "      <td>8</td>\n",
       "      <td>512</td>\n",
       "      <td>SSD</td>\n",
       "      <td>NaN</td>\n",
       "      <td>15.6</td>\n",
       "      <td>No</td>\n",
       "      <td>1009.00</td>\n",
       "    </tr>\n",
       "    <tr>\n",
       "      <th>1</th>\n",
       "      <td>Alurin Go Start Intel Celeron N4020/8GB/256GB ...</td>\n",
       "      <td>New</td>\n",
       "      <td>Alurin</td>\n",
       "      <td>Go</td>\n",
       "      <td>Intel Celeron</td>\n",
       "      <td>8</td>\n",
       "      <td>256</td>\n",
       "      <td>SSD</td>\n",
       "      <td>NaN</td>\n",
       "      <td>15.6</td>\n",
       "      <td>No</td>\n",
       "      <td>299.00</td>\n",
       "    </tr>\n",
       "    <tr>\n",
       "      <th>2</th>\n",
       "      <td>ASUS ExpertBook B1 B1502CBA-EJ0424X Intel Core...</td>\n",
       "      <td>New</td>\n",
       "      <td>Asus</td>\n",
       "      <td>ExpertBook</td>\n",
       "      <td>Intel Core i3</td>\n",
       "      <td>8</td>\n",
       "      <td>256</td>\n",
       "      <td>SSD</td>\n",
       "      <td>NaN</td>\n",
       "      <td>15.6</td>\n",
       "      <td>No</td>\n",
       "      <td>789.00</td>\n",
       "    </tr>\n",
       "    <tr>\n",
       "      <th>3</th>\n",
       "      <td>MSI Katana GF66 12UC-082XES Intel Core i7-1270...</td>\n",
       "      <td>New</td>\n",
       "      <td>MSI</td>\n",
       "      <td>Katana</td>\n",
       "      <td>Intel Core i7</td>\n",
       "      <td>16</td>\n",
       "      <td>1000</td>\n",
       "      <td>SSD</td>\n",
       "      <td>RTX 3050</td>\n",
       "      <td>15.6</td>\n",
       "      <td>No</td>\n",
       "      <td>1199.00</td>\n",
       "    </tr>\n",
       "    <tr>\n",
       "      <th>4</th>\n",
       "      <td>HP 15S-FQ5085NS Intel Core i5-1235U/16GB/512GB...</td>\n",
       "      <td>New</td>\n",
       "      <td>HP</td>\n",
       "      <td>15S</td>\n",
       "      <td>Intel Core i5</td>\n",
       "      <td>16</td>\n",
       "      <td>512</td>\n",
       "      <td>SSD</td>\n",
       "      <td>NaN</td>\n",
       "      <td>15.6</td>\n",
       "      <td>No</td>\n",
       "      <td>669.01</td>\n",
       "    </tr>\n",
       "  </tbody>\n",
       "</table>\n",
       "</div>"
      ],
      "text/plain": [
       "                                              Laptop Status   Brand  \\\n",
       "0  ASUS ExpertBook B1 B1502CBA-EJ0436X Intel Core...    New    Asus   \n",
       "1  Alurin Go Start Intel Celeron N4020/8GB/256GB ...    New  Alurin   \n",
       "2  ASUS ExpertBook B1 B1502CBA-EJ0424X Intel Core...    New    Asus   \n",
       "3  MSI Katana GF66 12UC-082XES Intel Core i7-1270...    New     MSI   \n",
       "4  HP 15S-FQ5085NS Intel Core i5-1235U/16GB/512GB...    New      HP   \n",
       "\n",
       "        Model            CPU  RAM  Storage Storage type       GPU  Screen  \\\n",
       "0  ExpertBook  Intel Core i5    8      512          SSD       NaN    15.6   \n",
       "1          Go  Intel Celeron    8      256          SSD       NaN    15.6   \n",
       "2  ExpertBook  Intel Core i3    8      256          SSD       NaN    15.6   \n",
       "3      Katana  Intel Core i7   16     1000          SSD  RTX 3050    15.6   \n",
       "4         15S  Intel Core i5   16      512          SSD       NaN    15.6   \n",
       "\n",
       "  Touch  Final Price  \n",
       "0    No      1009.00  \n",
       "1    No       299.00  \n",
       "2    No       789.00  \n",
       "3    No      1199.00  \n",
       "4    No       669.01  "
      ]
     },
     "execution_count": 2,
     "metadata": {},
     "output_type": "execute_result"
    }
   ],
   "source": [
    "data = pd.read_csv('https://raw.githubusercontent.com/alexeygrigorev/datasets/master/laptops.csv')\n",
    "data.head()"
   ]
  },
  {
   "cell_type": "markdown",
   "metadata": {},
   "source": [
    "change column names to lower case and add hypen"
   ]
  },
  {
   "cell_type": "code",
   "execution_count": 3,
   "metadata": {},
   "outputs": [],
   "source": [
    "data.columns = data.columns.str.lower().str.replace(' ', '_')"
   ]
  },
  {
   "cell_type": "code",
   "execution_count": 4,
   "metadata": {},
   "outputs": [
    {
     "data": {
      "text/plain": [
       "laptop           object\n",
       "status           object\n",
       "brand            object\n",
       "model            object\n",
       "cpu              object\n",
       "ram               int64\n",
       "storage           int64\n",
       "storage_type     object\n",
       "gpu              object\n",
       "screen          float64\n",
       "touch            object\n",
       "final_price     float64\n",
       "dtype: object"
      ]
     },
     "execution_count": 4,
     "metadata": {},
     "output_type": "execute_result"
    }
   ],
   "source": [
    "data.dtypes"
   ]
  },
  {
   "cell_type": "markdown",
   "metadata": {},
   "source": [
    "## EDA\n",
    "Look at the final_price variable. Does it have a long tail?"
   ]
  },
  {
   "cell_type": "code",
   "execution_count": 5,
   "metadata": {},
   "outputs": [
    {
     "data": {
      "text/plain": [
       "<Axes: >"
      ]
     },
     "execution_count": 5,
     "metadata": {},
     "output_type": "execute_result"
    },
    {
     "data": {
      "image/png": "[encoded data removed]",
      "text/plain": [
       "<Figure size 640x480 with 1 Axes>"
      ]
     },
     "metadata": {},
     "output_type": "display_data"
    }
   ],
   "source": [
    "data['final_price'].hist(bins=30)"
   ]
  },
  {
   "cell_type": "markdown",
   "metadata": {},
   "source": [
    "Answer: Somehow yes. it's a skewed data"
   ]
  },
  {
   "cell_type": "markdown",
   "metadata": {},
   "source": [
    "### Q1\n",
    "There's one column with missing values. What is it?"
   ]
  },
  {
   "cell_type": "code",
   "execution_count": 6,
   "metadata": {},
   "outputs": [
    {
     "data": {
      "text/plain": [
       "laptop             0\n",
       "status             0\n",
       "brand              0\n",
       "model              0\n",
       "cpu                0\n",
       "ram                0\n",
       "storage            0\n",
       "storage_type      42\n",
       "gpu             1371\n",
       "screen             4\n",
       "touch              0\n",
       "final_price        0\n",
       "dtype: int64"
      ]
     },
     "execution_count": 6,
     "metadata": {},
     "output_type": "execute_result"
    }
   ],
   "source": [
    "data.isnull().sum()"
   ]
  },
  {
   "cell_type": "markdown",
   "metadata": {},
   "source": [
    "Answer: screen (as in the list)"
   ]
  },
  {
   "cell_type": "markdown",
   "metadata": {},
   "source": [
    "### Q2\n",
    "What's the median (50% percentile) for variable 'ram'?"
   ]
  },
  {
   "cell_type": "code",
   "execution_count": 7,
   "metadata": {},
   "outputs": [
    {
     "data": {
      "text/plain": [
       "16.0"
      ]
     },
     "execution_count": 7,
     "metadata": {},
     "output_type": "execute_result"
    }
   ],
   "source": [
    "float(data.ram.median())"
   ]
  },
  {
   "cell_type": "markdown",
   "metadata": {},
   "source": [
    "### Q3 - 4"
   ]
  },
  {
   "cell_type": "markdown",
   "metadata": {},
   "source": [
    "### Prepare and split the dataset\n",
    "Shuffle the dataset (the filtered one you created above), use seed 42. \\\n",
    "Split your data in train/val/test sets, with 60%/20%/20% distribution. \\\n",
    "Use the same code as in the lectures"
   ]
  },
  {
   "cell_type": "code",
   "execution_count": 8,
   "metadata": {},
   "outputs": [],
   "source": [
    "# get number of data and split it into 3 parts\n",
    "n = len(data)\n",
    "n_val = int(n * 0.2)\n",
    "n_test = int(n * 0.2)\n",
    "n_train = n - n_val - n_test\n",
    "# create a list of indices\n",
    "idx = np.arange(n)\n",
    "# shuffle the indices\n",
    "np.random.seed(42)\n",
    "np.random.shuffle(idx)\n",
    "# split the data according to the shuffled indices\n",
    "train_data = data.iloc[idx[:n_train]]\n",
    "val_data = data.iloc[idx[n_train:n_train+n_val]]\n",
    "test_data = data.iloc[idx[n_train+n_val:]]"
   ]
  },
  {
   "cell_type": "code",
   "execution_count": 9,
   "metadata": {},
   "outputs": [
    {
     "data": {
      "text/html": [
       "<div>\n",
       "<style scoped>\n",
       "    .dataframe tbody tr th:only-of-type {\n",
       "        vertical-align: middle;\n",
       "    }\n",
       "\n",
       "    .dataframe tbody tr th {\n",
       "        vertical-align: top;\n",
       "    }\n",
       "\n",
       "    .dataframe thead th {\n",
       "        text-align: right;\n",
       "    }\n",
       "</style>\n",
       "<table border=\"1\" class=\"dataframe\">\n",
       "  <thead>\n",
       "    <tr style=\"text-align: right;\">\n",
       "      <th></th>\n",
       "      <th>laptop</th>\n",
       "      <th>status</th>\n",
       "      <th>brand</th>\n",
       "      <th>model</th>\n",
       "      <th>cpu</th>\n",
       "      <th>ram</th>\n",
       "      <th>storage</th>\n",
       "      <th>storage_type</th>\n",
       "      <th>gpu</th>\n",
       "      <th>screen</th>\n",
       "      <th>touch</th>\n",
       "      <th>final_price</th>\n",
       "    </tr>\n",
       "  </thead>\n",
       "  <tbody>\n",
       "    <tr>\n",
       "      <th>2079</th>\n",
       "      <td>MSI Modern 15 A11SBU-620XES Intel Core i7-1165...</td>\n",
       "      <td>Refurbished</td>\n",
       "      <td>MSI</td>\n",
       "      <td>Modern</td>\n",
       "      <td>Intel Core i7</td>\n",
       "      <td>32</td>\n",
       "      <td>1000</td>\n",
       "      <td>SSD</td>\n",
       "      <td>MX 450</td>\n",
       "      <td>15.6</td>\n",
       "      <td>No</td>\n",
       "      <td>1123.29</td>\n",
       "    </tr>\n",
       "    <tr>\n",
       "      <th>668</th>\n",
       "      <td>Thomson Neo White Intel Celeron N4020/4GB/64GB...</td>\n",
       "      <td>New</td>\n",
       "      <td>Thomson</td>\n",
       "      <td>Neo</td>\n",
       "      <td>Intel Celeron</td>\n",
       "      <td>4</td>\n",
       "      <td>64</td>\n",
       "      <td>eMMC</td>\n",
       "      <td>NaN</td>\n",
       "      <td>14.1</td>\n",
       "      <td>No</td>\n",
       "      <td>201.05</td>\n",
       "    </tr>\n",
       "    <tr>\n",
       "      <th>2073</th>\n",
       "      <td>MSI Modern 14 B11SB-420XES Intel Core i7-1165G...</td>\n",
       "      <td>Refurbished</td>\n",
       "      <td>MSI</td>\n",
       "      <td>Modern</td>\n",
       "      <td>Intel Core i7</td>\n",
       "      <td>32</td>\n",
       "      <td>1000</td>\n",
       "      <td>SSD</td>\n",
       "      <td>MX 450</td>\n",
       "      <td>14.0</td>\n",
       "      <td>No</td>\n",
       "      <td>997.74</td>\n",
       "    </tr>\n",
       "    <tr>\n",
       "      <th>1113</th>\n",
       "      <td>ASUS ZenBook 13 OLED UX325EA Intel Evo Core i7...</td>\n",
       "      <td>New</td>\n",
       "      <td>Asus</td>\n",
       "      <td>ZenBook</td>\n",
       "      <td>Intel Evo Core i7</td>\n",
       "      <td>16</td>\n",
       "      <td>512</td>\n",
       "      <td>SSD</td>\n",
       "      <td>NaN</td>\n",
       "      <td>13.3</td>\n",
       "      <td>No</td>\n",
       "      <td>1016.00</td>\n",
       "    </tr>\n",
       "    <tr>\n",
       "      <th>788</th>\n",
       "      <td>Acer Predator Triton 500 SE PT516-51s-75K6 Int...</td>\n",
       "      <td>New</td>\n",
       "      <td>Acer</td>\n",
       "      <td>Predator</td>\n",
       "      <td>Intel Core i7</td>\n",
       "      <td>32</td>\n",
       "      <td>1000</td>\n",
       "      <td>SSD</td>\n",
       "      <td>RTX 3080</td>\n",
       "      <td>16.0</td>\n",
       "      <td>No</td>\n",
       "      <td>2739.00</td>\n",
       "    </tr>\n",
       "  </tbody>\n",
       "</table>\n",
       "</div>"
      ],
      "text/plain": [
       "                                                 laptop       status    brand  \\\n",
       "2079  MSI Modern 15 A11SBU-620XES Intel Core i7-1165...  Refurbished      MSI   \n",
       "668   Thomson Neo White Intel Celeron N4020/4GB/64GB...          New  Thomson   \n",
       "2073  MSI Modern 14 B11SB-420XES Intel Core i7-1165G...  Refurbished      MSI   \n",
       "1113  ASUS ZenBook 13 OLED UX325EA Intel Evo Core i7...          New     Asus   \n",
       "788   Acer Predator Triton 500 SE PT516-51s-75K6 Int...          New     Acer   \n",
       "\n",
       "         model                cpu  ram  storage storage_type       gpu  \\\n",
       "2079    Modern      Intel Core i7   32     1000          SSD    MX 450   \n",
       "668        Neo      Intel Celeron    4       64         eMMC       NaN   \n",
       "2073    Modern      Intel Core i7   32     1000          SSD    MX 450   \n",
       "1113   ZenBook  Intel Evo Core i7   16      512          SSD       NaN   \n",
       "788   Predator      Intel Core i7   32     1000          SSD  RTX 3080   \n",
       "\n",
       "      screen touch  final_price  \n",
       "2079    15.6    No      1123.29  \n",
       "668     14.1    No       201.05  \n",
       "2073    14.0    No       997.74  \n",
       "1113    13.3    No      1016.00  \n",
       "788     16.0    No      2739.00  "
      ]
     },
     "execution_count": 9,
     "metadata": {},
     "output_type": "execute_result"
    }
   ],
   "source": [
    "train_data.head()"
   ]
  },
  {
   "cell_type": "markdown",
   "metadata": {},
   "source": [
    "## Q 3\n",
    "We need to deal with missing values for the column from Q1. \\\n",
    "We have two options: fill it with 0 or with the mean of this variable. \\\n",
    "Try both options. For each, train a linear regression model without regularization using the code from the lessons.\\\n",
    "For computing the mean, use the training only!\\\n",
    "Use the validation dataset to evaluate the models and compare the RMSE of each option.\\\n",
    "Round the RMSE scores to 2 decimal digits using round(score, 2)\\\n",
    "Which option gives better RMSE?"
   ]
  },
  {
   "cell_type": "code",
   "execution_count": 10,
   "metadata": {},
   "outputs": [
    {
     "data": {
      "text/plain": [
       "laptop           object\n",
       "status           object\n",
       "brand            object\n",
       "model            object\n",
       "cpu              object\n",
       "ram               int64\n",
       "storage           int64\n",
       "storage_type     object\n",
       "gpu              object\n",
       "screen          float64\n",
       "touch            object\n",
       "final_price     float64\n",
       "dtype: object"
      ]
     },
     "execution_count": 10,
     "metadata": {},
     "output_type": "execute_result"
    }
   ],
   "source": [
    "data.dtypes"
   ]
  },
  {
   "cell_type": "code",
   "execution_count": 11,
   "metadata": {},
   "outputs": [
    {
     "data": {
      "text/plain": [
       "laptop             0\n",
       "status             0\n",
       "brand              0\n",
       "model              0\n",
       "cpu                0\n",
       "ram                0\n",
       "storage            0\n",
       "storage_type      42\n",
       "gpu             1371\n",
       "screen             4\n",
       "touch              0\n",
       "final_price        0\n",
       "dtype: int64"
      ]
     },
     "execution_count": 11,
     "metadata": {},
     "output_type": "execute_result"
    }
   ],
   "source": [
    "data.isnull().sum()"
   ]
  },
  {
   "cell_type": "code",
   "execution_count": 12,
   "metadata": {},
   "outputs": [
    {
     "data": {
      "text/plain": [
       "array([15.6 , 17.3 , 14.  , 16.1 , 13.3 , 16.  , 13.6 , 17.  , 15.3 ,\n",
       "       14.5 , 13.4 , 14.2 , 18.  , 14.1 , 12.4 , 13.5 , 16.2 , 15.  ,\n",
       "       11.6 , 13.  , 10.5 , 14.4 ,   nan, 12.3 , 15.4 , 12.5 , 10.1 ,\n",
       "       10.95, 12.  , 13.9 ])"
      ]
     },
     "execution_count": 12,
     "metadata": {},
     "output_type": "execute_result"
    }
   ],
   "source": [
    "data['screen'].unique()"
   ]
  },
  {
   "cell_type": "code",
   "execution_count": 13,
   "metadata": {},
   "outputs": [],
   "source": [
    "features = ['ram', 'storage', 'screen']"
   ]
  },
  {
   "cell_type": "code",
   "execution_count": 14,
   "metadata": {},
   "outputs": [],
   "source": [
    "X_train_data_zero = train_data[features].copy()\n",
    "X_train_data_mean = train_data[features].copy()\n",
    "\n",
    "X_val_data_zero = val_data[features].copy()\n",
    "X_val_data_mean = val_data[features].copy()\n",
    "\n",
    "X_test_data_zero = test_data[features].copy()\n",
    "X_test_data_mean = test_data[features].copy()"
   ]
  },
  {
   "cell_type": "code",
   "execution_count": 15,
   "metadata": {},
   "outputs": [],
   "source": [
    "def train_linear_regression(X, y):\n",
    "    ones = np.ones(X.shape[0])\n",
    "    X = np.column_stack([ones, X]) # add bias & intercept\n",
    "\n",
    "    XTX = X.T.dot(X) # dot product\n",
    "    XTX_inv = np.linalg.inv(XTX) # inverse matrix\n",
    "    w_full = XTX_inv.dot(X.T).dot(y) # weights\n",
    "    \n",
    "    return w_full[0], w_full[1:]"
   ]
  },
  {
   "cell_type": "code",
   "execution_count": 16,
   "metadata": {},
   "outputs": [],
   "source": [
    "# train the model with zero fill\n",
    "w0_zero, w_zero = train_linear_regression(X_train_data_zero.fillna(0), train_data['final_price'])\n",
    "# train the model with mean fill\n",
    "w0_mean, w_mean = train_linear_regression(X_train_data_mean.fillna(X_train_data_mean.mean()), train_data['final_price'])"
   ]
  },
  {
   "cell_type": "code",
   "execution_count": 17,
   "metadata": {},
   "outputs": [],
   "source": [
    "def rmse(y, y_pred):\n",
    "    '''Root Mean Squared Error'''\n",
    "    se = (y - y_pred) ** 2\n",
    "    mse = se.mean()\n",
    "    return np.sqrt(mse)"
   ]
  },
  {
   "cell_type": "code",
   "execution_count": 18,
   "metadata": {},
   "outputs": [
    {
     "name": "stdout",
     "output_type": "stream",
     "text": [
      "RMSE with zero fill: 597.36\n",
      "RMSE with mean fill: 600.27\n"
     ]
    }
   ],
   "source": [
    "y_pred_zero = w0_zero + X_val_data_zero.fillna(0).dot(w_zero)\n",
    "y_pred_mean = w0_mean + X_val_data_mean.fillna(X_train_data_mean.mean()).dot(w_mean)\n",
    "\n",
    "rmse_zero =round(rmse(y=val_data['final_price'], y_pred=y_pred_zero), 2)\n",
    "rmse_mean = round(rmse(y=val_data['final_price'], y_pred=y_pred_mean), 2)\n",
    "\n",
    "print(f'RMSE with zero fill: {rmse_zero}')\n",
    "print(f'RMSE with mean fill: {rmse_mean}')"
   ]
  },
  {
   "cell_type": "markdown",
   "metadata": {},
   "source": [
    "## Question 4\n",
    "Now let's train a regularized linear regression. \\\n",
    "For this question, fill the NAs with 0. \\\n",
    "Try different values of r from this list: [0, 0.01, 0.1, 1, 5, 10, 100]. \\\n",
    "Use RMSE to evaluate the model on the validation dataset. \\\n",
    "Round the RMSE scores to 2 decimal digits. \\\n",
    "Which r gives the best RMSE? \\\n",
    "If there are multiple options, select the smallest r. \\"
   ]
  },
  {
   "cell_type": "code",
   "execution_count": 19,
   "metadata": {},
   "outputs": [],
   "source": [
    "def train_linear_regression_reg(X, y, r=0.001):\n",
    "    ones = np.ones(X.shape[0])\n",
    "    X = np.column_stack([ones, X])\n",
    "\n",
    "    XTX = X.T.dot(X)\n",
    "    XTX = XTX + r * np.eye(XTX.shape[0])\n",
    "\n",
    "    XTX_inv = np.linalg.inv(XTX)\n",
    "    w_full = XTX_inv.dot(X.T).dot(y)\n",
    "    \n",
    "    return w_full[0], w_full[1:]"
   ]
  },
  {
   "cell_type": "code",
   "execution_count": 21,
   "metadata": {},
   "outputs": [
    {
     "name": "stdout",
     "output_type": "stream",
     "text": [
      "r=0 -> RMSE=597.3635593619629\n",
      "r=0.01 -> RMSE=597.361681985602\n",
      "r=0.1 -> RMSE=597.3451592963625\n",
      "r=1 -> RMSE=597.2121215589523\n",
      "r=5 -> RMSE=597.0111186297032\n",
      "r=10 -> RMSE=597.0587680661113\n",
      "r=100 -> RMSE=597.9032640603043\n"
     ]
    }
   ],
   "source": [
    "X_train_data = train_data[features].copy().fillna(0)\n",
    "X_val_data = val_data[features].copy().fillna(0)\n",
    "X_test_data = test_data[features].copy().fillna(0)\n",
    "\n",
    "for r in [0, 0.01, 0.1, 1, 5, 10, 100]:\n",
    "    w0, w = train_linear_regression_reg(X_train_data, train_data['final_price'], r=r)\n",
    "    y_pred = w0 + X_val_data.dot(w)\n",
    "    score = rmse(val_data['final_price'], y_pred)\n",
    "    print(f'r={r} -> RMSE={score}')"
   ]
  },
  {
   "cell_type": "markdown",
   "metadata": {},
   "source": [
    "## Question 5\n",
    "We used seed 42 for splitting the data. Let's find out how selecting the seed influences our score. \\\n",
    "Try different seed values: [0, 1, 2, 3, 4, 5, 6, 7, 8, 9]. \\\n",
    "For each seed, do the train/validation/test split with 60%/20%/20% distribution. \\\n",
    "Fill the missing values with 0 and train a model without regularization. \\\n",
    "For each seed, evaluate the model on the validation dataset and collect the RMSE scores. \\\n",
    "What's the standard deviation of all the scores? To compute the standard deviation, use np.std. \\\n",
    "Round the result to 3 decimal digits (round(std, 3))"
   ]
  },
  {
   "cell_type": "code",
   "execution_count": 22,
   "metadata": {},
   "outputs": [],
   "source": [
    "def split_data(data, seed=42):\n",
    "    # get number of data and split it into 3 parts\n",
    "    n = len(data)\n",
    "    n_val = int(n * 0.2)\n",
    "    n_test = int(n * 0.2)\n",
    "    n_train = n - n_val - n_test\n",
    "    # create a list of indices\n",
    "    idx = np.arange(n)\n",
    "    # shuffle the indices\n",
    "    np.random.seed(seed=seed)\n",
    "    np.random.shuffle(idx)\n",
    "    # split the data according to the shuffled indices\n",
    "    train_data = data.iloc[idx[:n_train]]\n",
    "    val_data = data.iloc[idx[n_train:n_train+n_val]]\n",
    "    test_data = data.iloc[idx[n_train+n_val:]]\n",
    "\n",
    "    return train_data, val_data, test_data"
   ]
  },
  {
   "cell_type": "code",
   "execution_count": 26,
   "metadata": {},
   "outputs": [],
   "source": [
    "def train_evaluate_model(data, features, seed=42):\n",
    "    train_data, val_data, test_data = split_data(data, seed=seed)\n",
    "    X_train_data = train_data[features].copy().fillna(0)\n",
    "    X_val_data = val_data[features].copy().fillna(0)\n",
    "    w0, w = train_linear_regression(X_train_data, train_data['final_price'])\n",
    "    y_pred = w0 + X_val_data.dot(w)\n",
    "    score = rmse(val_data['final_price'], y_pred)\n",
    "    return score"
   ]
  },
  {
   "cell_type": "code",
   "execution_count": 29,
   "metadata": {},
   "outputs": [
    {
     "name": "stdout",
     "output_type": "stream",
     "text": [
      "seed=0 -> RMSE=564.4531204982359\n",
      "seed=1 -> RMSE=636.7963145555948\n",
      "seed=2 -> RMSE=588.9427355665042\n",
      "seed=3 -> RMSE=597.6263651300563\n",
      "seed=4 -> RMSE=571.3619449196478\n",
      "seed=5 -> RMSE=572.3338944573832\n",
      "seed=6 -> RMSE=647.210557822105\n",
      "seed=7 -> RMSE=550.4065345309963\n",
      "seed=8 -> RMSE=585.5664568915514\n",
      "seed=9 -> RMSE=575.8781445271151\n"
     ]
    }
   ],
   "source": [
    "rmse_scores = []\n",
    "for seed in [0, 1, 2, 3, 4, 5, 6, 7, 8, 9]:\n",
    "    score = train_evaluate_model(data, features, seed=seed)\n",
    "    rmse_scores.append(score)\n",
    "    print(f'seed={seed} -> RMSE={score}')"
   ]
  },
  {
   "cell_type": "code",
   "execution_count": 30,
   "metadata": {},
   "outputs": [
    {
     "data": {
      "text/plain": [
       "np.float64(29.34651297271632)"
      ]
     },
     "execution_count": 30,
     "metadata": {},
     "output_type": "execute_result"
    }
   ],
   "source": [
    "np.std(rmse_scores)"
   ]
  },
  {
   "cell_type": "markdown",
   "metadata": {},
   "source": [
    "## Question 6\n",
    "Split the dataset like previously, use seed 9. \\\n",
    "Combine train and validation datasets. \\\n",
    "Fill the missing values with 0 and train a model with r=0.001. \\\n",
    "What's the RMSE on the test dataset?"
   ]
  },
  {
   "cell_type": "code",
   "execution_count": 31,
   "metadata": {},
   "outputs": [
    {
     "name": "stdout",
     "output_type": "stream",
     "text": [
      "RMSE on test data: 608.6102791248078\n"
     ]
    }
   ],
   "source": [
    "train_data, val_data, test_data = split_data(data, seed=9)\n",
    "merged_data = pd.concat([train_data, val_data])\n",
    "X_merged_data = merged_data[features].copy().fillna(0)\n",
    "\n",
    "w0, w = train_linear_regression(X_merged_data, merged_data['final_price'])\n",
    "X_test_data = test_data[features].copy().fillna(0)\n",
    "y_pred = w0 + X_test_data.dot(w)\n",
    "score = rmse(test_data['final_price'], y_pred)\n",
    "print(f'RMSE on test data: {score}')"
   ]
  },
  {
   "cell_type": "markdown",
   "metadata": {},
   "source": []
  }
 ],
 "metadata": {
  "kernelspec": {
   "display_name": "batinf",
   "language": "python",
   "name": "python3"
  },
  "language_info": {
   "codemirror_mode": {
    "name": "ipython",
    "version": 3
   },
   "file_extension": ".py",
   "mimetype": "text/x-python",
   "name": "python",
   "nbconvert_exporter": "python",
   "pygments_lexer": "ipython3",
   "version": "3.9.19"
  }
 },
 "nbformat": 4,
 "nbformat_minor": 2
}
